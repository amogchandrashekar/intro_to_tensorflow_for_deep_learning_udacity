{
  "nbformat": 4,
  "nbformat_minor": 0,
  "metadata": {
    "colab": {
      "name": "Flower classification with Image augmentation.ipynb",
      "provenance": [],
      "collapsed_sections": []
    },
    "kernelspec": {
      "name": "python3",
      "display_name": "Python 3"
    },
    "accelerator": "GPU"
  },
  "cells": [
    {
      "cell_type": "markdown",
      "metadata": {
        "id": "Dfxk09qlk3yX"
      },
      "source": [
        "## Imports"
      ]
    },
    {
      "cell_type": "code",
      "metadata": {
        "id": "NVFBC5Pok5qg"
      },
      "source": [
        "import tensorflow as tf\n",
        "from tensorflow.keras.preprocessing.image import ImageDataGenerator\n",
        "\n",
        "import os\n",
        "import shutil\n",
        "import numpy as np\n",
        "from pathlib import Path\n",
        "import glob\n",
        "import matplotlib.pyplot as plt"
      ],
      "execution_count": 1,
      "outputs": []
    },
    {
      "cell_type": "markdown",
      "metadata": {
        "id": "eYUpLmT_l3C6"
      },
      "source": [
        "## Data Loading"
      ]
    },
    {
      "cell_type": "code",
      "metadata": {
        "id": "0E7XW_lol5B0"
      },
      "source": [
        "URL = \"https://storage.googleapis.com/download.tensorflow.org/example_images/flower_photos.tgz\""
      ],
      "execution_count": 2,
      "outputs": []
    },
    {
      "cell_type": "code",
      "metadata": {
        "id": "RBwq7Y5el8yh",
        "outputId": "44d42155-2dbf-4730-df6d-646127ee4d5d",
        "colab": {
          "base_uri": "https://localhost:8080/",
          "height": 51
        }
      },
      "source": [
        "zip_file = tf.keras.utils.get_file(fname='flower_photos.tgz',\n",
        "                        origin=URL,\n",
        "                        untar=True)"
      ],
      "execution_count": 3,
      "outputs": [
        {
          "output_type": "stream",
          "text": [
            "Downloading data from https://storage.googleapis.com/download.tensorflow.org/example_images/flower_photos.tgz\n",
            "228818944/228813984 [==============================] - 1s 0us/step\n"
          ],
          "name": "stdout"
        }
      ]
    },
    {
      "cell_type": "code",
      "metadata": {
        "id": "TZM7JbWzovEs",
        "outputId": "d043b582-d604-450f-c9e2-a3f9ab88ff1c",
        "colab": {
          "base_uri": "https://localhost:8080/",
          "height": 136
        }
      },
      "source": [
        "zip_dir_base = os.path.dirname(zip_file)\n",
        "!find $zip_dir_base -type d -print"
      ],
      "execution_count": 4,
      "outputs": [
        {
          "output_type": "stream",
          "text": [
            "/root/.keras/datasets\n",
            "/root/.keras/datasets/flower_photos\n",
            "/root/.keras/datasets/flower_photos/sunflowers\n",
            "/root/.keras/datasets/flower_photos/tulips\n",
            "/root/.keras/datasets/flower_photos/dandelion\n",
            "/root/.keras/datasets/flower_photos/daisy\n",
            "/root/.keras/datasets/flower_photos/roses\n"
          ],
          "name": "stdout"
        }
      ]
    },
    {
      "cell_type": "code",
      "metadata": {
        "id": "UTy_u_6DmY0S"
      },
      "source": [
        "base_dir = os.path.join(os.path.dirname(zip_file), 'flower_photos')"
      ],
      "execution_count": 5,
      "outputs": []
    },
    {
      "cell_type": "markdown",
      "metadata": {
        "id": "wqScrzqjo8XP"
      },
      "source": [
        "## Create paths"
      ]
    },
    {
      "cell_type": "markdown",
      "metadata": {
        "id": "zBZUbRkimpFz"
      },
      "source": [
        "The dataset we downloaded contains images of 5 types of flowers:\n",
        "\n",
        "1. Rose\n",
        "2. Daisy\n",
        "3. Dandelion\n",
        "4. Sunflowers\n",
        "5. Tulips\n",
        "\n",
        "So, let's create the labels for these 5 classes: "
      ]
    },
    {
      "cell_type": "code",
      "metadata": {
        "id": "oLCV1Xgrmfww"
      },
      "source": [
        "classes = ['roses', 'daisy', 'dandelion', 'sunflowers', 'tulips']"
      ],
      "execution_count": 6,
      "outputs": []
    },
    {
      "cell_type": "code",
      "metadata": {
        "id": "H56inerHo-79",
        "outputId": "0cbd41ed-8961-4823-bf20-3eb3df165ad3",
        "colab": {
          "base_uri": "https://localhost:8080/",
          "height": 102
        }
      },
      "source": [
        "for cl in classes:\n",
        "  img_path = os.path.join(base_dir, cl)\n",
        "  images = glob.glob(img_path + '/*.jpg')\n",
        "  print(\"{}: {} Images\".format(cl, len(images)))\n",
        "  train, val = images[:round(len(images)*0.8)], images[round(len(images)*0.8):]\n",
        "\n",
        "  for t in train:\n",
        "    if not os.path.exists(os.path.join(base_dir, 'train', cl)):\n",
        "      os.makedirs(os.path.join(base_dir, 'train', cl))\n",
        "    shutil.move(t, os.path.join(base_dir, 'train', cl))\n",
        "\n",
        "  for v in val:\n",
        "    if not os.path.exists(os.path.join(base_dir, 'val', cl)):\n",
        "      os.makedirs(os.path.join(base_dir, 'val', cl))\n",
        "    shutil.move(v, os.path.join(base_dir, 'val', cl))"
      ],
      "execution_count": 7,
      "outputs": [
        {
          "output_type": "stream",
          "text": [
            "roses: 641 Images\n",
            "daisy: 633 Images\n",
            "dandelion: 898 Images\n",
            "sunflowers: 699 Images\n",
            "tulips: 799 Images\n"
          ],
          "name": "stdout"
        }
      ]
    },
    {
      "cell_type": "code",
      "metadata": {
        "id": "gJxG7RxHmtAQ"
      },
      "source": [
        "train_dir = os.path.join(base_dir, 'train')\n",
        "val_dir = os.path.join(base_dir, 'val')"
      ],
      "execution_count": 8,
      "outputs": []
    },
    {
      "cell_type": "markdown",
      "metadata": {
        "id": "wXhJFCkRnHpU"
      },
      "source": [
        "## Data augmentation"
      ]
    },
    {
      "cell_type": "code",
      "metadata": {
        "id": "Pu-hUS8ioITI"
      },
      "source": [
        "EPOCHS = 100\n",
        "IMG_SHAPE = 150\n",
        "BATCH_SIZE = 100"
      ],
      "execution_count": 9,
      "outputs": []
    },
    {
      "cell_type": "code",
      "metadata": {
        "id": "83oj-_-YnGAC"
      },
      "source": [
        "train_image_gen = ImageDataGenerator(\n",
        "      rescale=1./255,\n",
        "      rotation_range=40,\n",
        "      width_shift_range=0.2,\n",
        "      height_shift_range=0.2,\n",
        "      shear_range=0.2,\n",
        "      zoom_range=0.2,\n",
        "      horizontal_flip=True,\n",
        "      fill_mode='nearest'\n",
        "      )"
      ],
      "execution_count": 10,
      "outputs": []
    },
    {
      "cell_type": "code",
      "metadata": {
        "id": "ymn2YQd8n3K2",
        "outputId": "1b504944-caff-449a-adc4-50fad1b889b3",
        "colab": {
          "base_uri": "https://localhost:8080/",
          "height": 34
        }
      },
      "source": [
        "train_data_gen = train_image_gen.flow_from_directory(\n",
        "    directory=train_dir,\n",
        "    target_size=(IMG_SHAPE, IMG_SHAPE),\n",
        "    class_mode='sparse',\n",
        "    batch_size=BATCH_SIZE,\n",
        "    shuffle=True\n",
        ")"
      ],
      "execution_count": 11,
      "outputs": [
        {
          "output_type": "stream",
          "text": [
            "Found 2935 images belonging to 5 classes.\n"
          ],
          "name": "stdout"
        }
      ]
    },
    {
      "cell_type": "code",
      "metadata": {
        "id": "JrxPpCrOslSM",
        "outputId": "e74ff795-eac0-489f-aff8-e76dca018dce",
        "colab": {
          "base_uri": "https://localhost:8080/",
          "height": 34
        }
      },
      "source": [
        "image_gen_val = ImageDataGenerator(rescale=1./255)\n",
        "\n",
        "val_data_gen = image_gen_val.flow_from_directory(batch_size=BATCH_SIZE,\n",
        "                                                 directory=val_dir,\n",
        "                                                 target_size=(IMG_SHAPE, IMG_SHAPE),\n",
        "                                                 class_mode='sparse')"
      ],
      "execution_count": 12,
      "outputs": [
        {
          "output_type": "stream",
          "text": [
            "Found 735 images belonging to 5 classes.\n"
          ],
          "name": "stdout"
        }
      ]
    },
    {
      "cell_type": "markdown",
      "metadata": {
        "id": "qWXMOHE1pRwA"
      },
      "source": [
        "## Define model and train"
      ]
    },
    {
      "cell_type": "code",
      "metadata": {
        "id": "0MoJDafPpTum"
      },
      "source": [
        "cnn_model = tf.keras.Sequential([\n",
        "                                        tf.keras.layers.Conv2D(32, (3, 3), activation='relu', input_shape=(IMG_SHAPE, IMG_SHAPE, 3)),\n",
        "                                        tf.keras.layers.MaxPool2D(pool_size=(2,2)),\n",
        "\n",
        "                                        tf.keras.layers.Conv2D(64, (3, 3), activation='relu'),\n",
        "                                        tf.keras.layers.MaxPool2D(pool_size=(2,2)),\n",
        "\n",
        "                                        tf.keras.layers.Conv2D(128, (3, 3), activation='relu'),\n",
        "                                        tf.keras.layers.MaxPool2D(pool_size=(2,2)),\n",
        "\n",
        "                                        tf.keras.layers.Conv2D(128, (3, 3), activation='relu'),\n",
        "                                        tf.keras.layers.MaxPool2D(pool_size=(2,2)),\n",
        "\n",
        "                                        tf.keras.layers.Dropout(0.2),\n",
        "                                        tf.keras.layers.Flatten(),\n",
        "                                        tf.keras.layers.Dense(512, activation='relu'),\n",
        "                                        tf.keras.layers.Dense(5, activation='softmax')\n",
        "                                        ])"
      ],
      "execution_count": 16,
      "outputs": []
    },
    {
      "cell_type": "code",
      "metadata": {
        "id": "_GwGEkfVr0rL"
      },
      "source": [
        "cnn_model.compile(optimizer=tf.keras.optimizers.Adam(learning_rate=0.001),\n",
        "                  loss=tf.keras.losses.SparseCategoricalCrossentropy(from_logits=True),\n",
        "                  metrics=['accuracy'])"
      ],
      "execution_count": 19,
      "outputs": []
    },
    {
      "cell_type": "code",
      "metadata": {
        "id": "M1b5MPTCsH4S",
        "outputId": "1b2761f9-1928-441a-fc3a-7bd0ef963769",
        "colab": {
          "base_uri": "https://localhost:8080/",
          "height": 1000
        }
      },
      "source": [
        "history = cnn_model.fit(\n",
        "    train_data_gen,\n",
        "    validation_data=val_data_gen,\n",
        "    batch_size=BATCH_SIZE,\n",
        "    epochs=EPOCHS\n",
        ")"
      ],
      "execution_count": 21,
      "outputs": [
        {
          "output_type": "stream",
          "text": [
            "Epoch 1/100\n",
            "30/30 [==============================] - 23s 756ms/step - loss: 1.4580 - accuracy: 0.4436 - val_loss: 1.4588 - val_accuracy: 0.4503\n",
            "Epoch 2/100\n",
            "30/30 [==============================] - 22s 743ms/step - loss: 1.4713 - accuracy: 0.4235 - val_loss: 1.4193 - val_accuracy: 0.4898\n",
            "Epoch 3/100\n",
            "30/30 [==============================] - 22s 747ms/step - loss: 1.4320 - accuracy: 0.4671 - val_loss: 1.4312 - val_accuracy: 0.4694\n",
            "Epoch 4/100\n",
            "30/30 [==============================] - 22s 750ms/step - loss: 1.4156 - accuracy: 0.4855 - val_loss: 1.4041 - val_accuracy: 0.4925\n",
            "Epoch 5/100\n",
            "30/30 [==============================] - 23s 753ms/step - loss: 1.4082 - accuracy: 0.4940 - val_loss: 1.3993 - val_accuracy: 0.4966\n",
            "Epoch 6/100\n",
            "30/30 [==============================] - 23s 753ms/step - loss: 1.4132 - accuracy: 0.4869 - val_loss: 1.3850 - val_accuracy: 0.5075\n",
            "Epoch 7/100\n",
            "30/30 [==============================] - 23s 755ms/step - loss: 1.3470 - accuracy: 0.5523 - val_loss: 1.3695 - val_accuracy: 0.5306\n",
            "Epoch 8/100\n",
            "30/30 [==============================] - 23s 775ms/step - loss: 1.3366 - accuracy: 0.5632 - val_loss: 1.3402 - val_accuracy: 0.5578\n",
            "Epoch 9/100\n",
            "30/30 [==============================] - 23s 765ms/step - loss: 1.3254 - accuracy: 0.5765 - val_loss: 1.2922 - val_accuracy: 0.6082\n",
            "Epoch 10/100\n",
            "30/30 [==============================] - 23s 761ms/step - loss: 1.3211 - accuracy: 0.5819 - val_loss: 1.2942 - val_accuracy: 0.6068\n",
            "Epoch 11/100\n",
            "30/30 [==============================] - 23s 766ms/step - loss: 1.3405 - accuracy: 0.5595 - val_loss: 1.4969 - val_accuracy: 0.4068\n",
            "Epoch 12/100\n",
            "30/30 [==============================] - 23s 764ms/step - loss: 1.3467 - accuracy: 0.5537 - val_loss: 1.3392 - val_accuracy: 0.5633\n",
            "Epoch 13/100\n",
            "30/30 [==============================] - 23s 765ms/step - loss: 1.3203 - accuracy: 0.5782 - val_loss: 1.3713 - val_accuracy: 0.5320\n",
            "Epoch 14/100\n",
            "30/30 [==============================] - 23s 769ms/step - loss: 1.3201 - accuracy: 0.5785 - val_loss: 1.2955 - val_accuracy: 0.6082\n",
            "Epoch 15/100\n",
            "30/30 [==============================] - 23s 772ms/step - loss: 1.3121 - accuracy: 0.5871 - val_loss: 1.2907 - val_accuracy: 0.6136\n",
            "Epoch 16/100\n",
            "30/30 [==============================] - 23s 766ms/step - loss: 1.2820 - accuracy: 0.6194 - val_loss: 1.2872 - val_accuracy: 0.6054\n",
            "Epoch 17/100\n",
            "30/30 [==============================] - 23s 760ms/step - loss: 1.2897 - accuracy: 0.6099 - val_loss: 1.2756 - val_accuracy: 0.6218\n",
            "Epoch 18/100\n",
            "30/30 [==============================] - 23s 770ms/step - loss: 1.2947 - accuracy: 0.6055 - val_loss: 1.2887 - val_accuracy: 0.6109\n",
            "Epoch 19/100\n",
            "30/30 [==============================] - 23s 766ms/step - loss: 1.2713 - accuracy: 0.6296 - val_loss: 1.2736 - val_accuracy: 0.6231\n",
            "Epoch 20/100\n",
            "30/30 [==============================] - 23s 766ms/step - loss: 1.2630 - accuracy: 0.6361 - val_loss: 1.2647 - val_accuracy: 0.6367\n",
            "Epoch 21/100\n",
            "30/30 [==============================] - 23s 783ms/step - loss: 1.2621 - accuracy: 0.6399 - val_loss: 1.2758 - val_accuracy: 0.6245\n",
            "Epoch 22/100\n",
            "30/30 [==============================] - 23s 773ms/step - loss: 1.2808 - accuracy: 0.6221 - val_loss: 1.3113 - val_accuracy: 0.5918\n",
            "Epoch 23/100\n",
            "30/30 [==============================] - 23s 771ms/step - loss: 1.2796 - accuracy: 0.6187 - val_loss: 1.2529 - val_accuracy: 0.6463\n",
            "Epoch 24/100\n",
            "30/30 [==============================] - 23s 772ms/step - loss: 1.2713 - accuracy: 0.6269 - val_loss: 1.2473 - val_accuracy: 0.6585\n",
            "Epoch 25/100\n",
            "30/30 [==============================] - 23s 775ms/step - loss: 1.2793 - accuracy: 0.6191 - val_loss: 1.2659 - val_accuracy: 0.6381\n",
            "Epoch 26/100\n",
            "30/30 [==============================] - 23s 773ms/step - loss: 1.2568 - accuracy: 0.6436 - val_loss: 1.2681 - val_accuracy: 0.6313\n",
            "Epoch 27/100\n",
            "30/30 [==============================] - 23s 774ms/step - loss: 1.2781 - accuracy: 0.6204 - val_loss: 1.2772 - val_accuracy: 0.6245\n",
            "Epoch 28/100\n",
            "30/30 [==============================] - 23s 780ms/step - loss: 1.2722 - accuracy: 0.6303 - val_loss: 1.2607 - val_accuracy: 0.6408\n",
            "Epoch 29/100\n",
            "30/30 [==============================] - 23s 777ms/step - loss: 1.2769 - accuracy: 0.6262 - val_loss: 1.2523 - val_accuracy: 0.6503\n",
            "Epoch 30/100\n",
            "30/30 [==============================] - 23s 774ms/step - loss: 1.2589 - accuracy: 0.6422 - val_loss: 1.2821 - val_accuracy: 0.6204\n",
            "Epoch 31/100\n",
            "30/30 [==============================] - 23s 776ms/step - loss: 1.3046 - accuracy: 0.5949 - val_loss: 1.3374 - val_accuracy: 0.5605\n",
            "Epoch 32/100\n",
            "30/30 [==============================] - 23s 778ms/step - loss: 1.2740 - accuracy: 0.6252 - val_loss: 1.2470 - val_accuracy: 0.6544\n",
            "Epoch 33/100\n",
            "30/30 [==============================] - 23s 781ms/step - loss: 1.2615 - accuracy: 0.6419 - val_loss: 1.2703 - val_accuracy: 0.6286\n",
            "Epoch 34/100\n",
            "30/30 [==============================] - 24s 788ms/step - loss: 1.2614 - accuracy: 0.6388 - val_loss: 1.2332 - val_accuracy: 0.6680\n",
            "Epoch 35/100\n",
            "30/30 [==============================] - 23s 782ms/step - loss: 1.2491 - accuracy: 0.6542 - val_loss: 1.3144 - val_accuracy: 0.5810\n",
            "Epoch 36/100\n",
            "30/30 [==============================] - 23s 782ms/step - loss: 1.2681 - accuracy: 0.6310 - val_loss: 1.2386 - val_accuracy: 0.6667\n",
            "Epoch 37/100\n",
            "30/30 [==============================] - 23s 777ms/step - loss: 1.2656 - accuracy: 0.6348 - val_loss: 1.2407 - val_accuracy: 0.6639\n",
            "Epoch 38/100\n",
            "30/30 [==============================] - 23s 781ms/step - loss: 1.2488 - accuracy: 0.6508 - val_loss: 1.2377 - val_accuracy: 0.6639\n",
            "Epoch 39/100\n",
            "30/30 [==============================] - 23s 779ms/step - loss: 1.2412 - accuracy: 0.6572 - val_loss: 1.2274 - val_accuracy: 0.6735\n",
            "Epoch 40/100\n",
            "30/30 [==============================] - 23s 783ms/step - loss: 1.2386 - accuracy: 0.6600 - val_loss: 1.2682 - val_accuracy: 0.6299\n",
            "Epoch 41/100\n",
            "30/30 [==============================] - 24s 784ms/step - loss: 1.2660 - accuracy: 0.6351 - val_loss: 1.2406 - val_accuracy: 0.6558\n",
            "Epoch 42/100\n",
            "30/30 [==============================] - 24s 785ms/step - loss: 1.2432 - accuracy: 0.6549 - val_loss: 1.2240 - val_accuracy: 0.6762\n",
            "Epoch 43/100\n",
            "30/30 [==============================] - 24s 786ms/step - loss: 1.2394 - accuracy: 0.6620 - val_loss: 1.2834 - val_accuracy: 0.6204\n",
            "Epoch 44/100\n",
            "30/30 [==============================] - 24s 785ms/step - loss: 1.2482 - accuracy: 0.6514 - val_loss: 1.2847 - val_accuracy: 0.6177\n",
            "Epoch 45/100\n",
            "30/30 [==============================] - 24s 785ms/step - loss: 1.2360 - accuracy: 0.6647 - val_loss: 1.2524 - val_accuracy: 0.6476\n",
            "Epoch 46/100\n",
            "30/30 [==============================] - 24s 786ms/step - loss: 1.2469 - accuracy: 0.6535 - val_loss: 1.2566 - val_accuracy: 0.6463\n",
            "Epoch 47/100\n",
            "30/30 [==============================] - 24s 793ms/step - loss: 1.2327 - accuracy: 0.6692 - val_loss: 1.2124 - val_accuracy: 0.6925\n",
            "Epoch 48/100\n",
            "30/30 [==============================] - 24s 787ms/step - loss: 1.2318 - accuracy: 0.6688 - val_loss: 1.2090 - val_accuracy: 0.6952\n",
            "Epoch 49/100\n",
            "30/30 [==============================] - 24s 789ms/step - loss: 1.2274 - accuracy: 0.6733 - val_loss: 1.2148 - val_accuracy: 0.6830\n",
            "Epoch 50/100\n",
            "30/30 [==============================] - 24s 784ms/step - loss: 1.2079 - accuracy: 0.6957 - val_loss: 1.2042 - val_accuracy: 0.6993\n",
            "Epoch 51/100\n",
            "30/30 [==============================] - 24s 789ms/step - loss: 1.2264 - accuracy: 0.6767 - val_loss: 1.2562 - val_accuracy: 0.6408\n",
            "Epoch 52/100\n",
            "30/30 [==============================] - 24s 788ms/step - loss: 1.2187 - accuracy: 0.6831 - val_loss: 1.2171 - val_accuracy: 0.6844\n",
            "Epoch 53/100\n",
            "30/30 [==============================] - 24s 806ms/step - loss: 1.2271 - accuracy: 0.6756 - val_loss: 1.2376 - val_accuracy: 0.6653\n",
            "Epoch 54/100\n",
            "30/30 [==============================] - 24s 793ms/step - loss: 1.2086 - accuracy: 0.6910 - val_loss: 1.2006 - val_accuracy: 0.7007\n",
            "Epoch 55/100\n",
            "30/30 [==============================] - 24s 796ms/step - loss: 1.2096 - accuracy: 0.6903 - val_loss: 1.2241 - val_accuracy: 0.6816\n",
            "Epoch 56/100\n",
            "30/30 [==============================] - 24s 812ms/step - loss: 1.2165 - accuracy: 0.6835 - val_loss: 1.2187 - val_accuracy: 0.6857\n",
            "Epoch 57/100\n",
            "30/30 [==============================] - 24s 791ms/step - loss: 1.2097 - accuracy: 0.6927 - val_loss: 1.2494 - val_accuracy: 0.6544\n",
            "Epoch 58/100\n",
            "30/30 [==============================] - 24s 797ms/step - loss: 1.2129 - accuracy: 0.6855 - val_loss: 1.2399 - val_accuracy: 0.6585\n",
            "Epoch 59/100\n",
            "30/30 [==============================] - 24s 804ms/step - loss: 1.2087 - accuracy: 0.6940 - val_loss: 1.2134 - val_accuracy: 0.6871\n",
            "Epoch 60/100\n",
            "30/30 [==============================] - 24s 800ms/step - loss: 1.2064 - accuracy: 0.6920 - val_loss: 1.2356 - val_accuracy: 0.6653\n",
            "Epoch 61/100\n",
            "30/30 [==============================] - 24s 799ms/step - loss: 1.1940 - accuracy: 0.7063 - val_loss: 1.2008 - val_accuracy: 0.6980\n",
            "Epoch 62/100\n",
            "30/30 [==============================] - 24s 796ms/step - loss: 1.1839 - accuracy: 0.7186 - val_loss: 1.1943 - val_accuracy: 0.7007\n",
            "Epoch 63/100\n",
            "30/30 [==============================] - 24s 801ms/step - loss: 1.2043 - accuracy: 0.6978 - val_loss: 1.2206 - val_accuracy: 0.6816\n",
            "Epoch 64/100\n",
            "30/30 [==============================] - 24s 797ms/step - loss: 1.1970 - accuracy: 0.7063 - val_loss: 1.1998 - val_accuracy: 0.6993\n",
            "Epoch 65/100\n",
            "30/30 [==============================] - 24s 799ms/step - loss: 1.1870 - accuracy: 0.7145 - val_loss: 1.1956 - val_accuracy: 0.7116\n",
            "Epoch 66/100\n",
            "30/30 [==============================] - 24s 799ms/step - loss: 1.1955 - accuracy: 0.7073 - val_loss: 1.1912 - val_accuracy: 0.7116\n",
            "Epoch 67/100\n",
            "30/30 [==============================] - 24s 794ms/step - loss: 1.2054 - accuracy: 0.6974 - val_loss: 1.2225 - val_accuracy: 0.6748\n",
            "Epoch 68/100\n",
            "30/30 [==============================] - 24s 800ms/step - loss: 1.2152 - accuracy: 0.6842 - val_loss: 1.2078 - val_accuracy: 0.6939\n",
            "Epoch 69/100\n",
            "30/30 [==============================] - 24s 793ms/step - loss: 1.1844 - accuracy: 0.7162 - val_loss: 1.1866 - val_accuracy: 0.7129\n",
            "Epoch 70/100\n",
            "30/30 [==============================] - 24s 797ms/step - loss: 1.2033 - accuracy: 0.6951 - val_loss: 1.1824 - val_accuracy: 0.7211\n",
            "Epoch 71/100\n",
            "30/30 [==============================] - 24s 795ms/step - loss: 1.1907 - accuracy: 0.7124 - val_loss: 1.2261 - val_accuracy: 0.6776\n",
            "Epoch 72/100\n",
            "30/30 [==============================] - 24s 807ms/step - loss: 1.2144 - accuracy: 0.6835 - val_loss: 1.1794 - val_accuracy: 0.7238\n",
            "Epoch 73/100\n",
            "30/30 [==============================] - 24s 806ms/step - loss: 1.1835 - accuracy: 0.7169 - val_loss: 1.1943 - val_accuracy: 0.7116\n",
            "Epoch 74/100\n",
            "30/30 [==============================] - 24s 804ms/step - loss: 1.1849 - accuracy: 0.7148 - val_loss: 1.1944 - val_accuracy: 0.7075\n",
            "Epoch 75/100\n",
            "30/30 [==============================] - 24s 801ms/step - loss: 1.2037 - accuracy: 0.6964 - val_loss: 1.2523 - val_accuracy: 0.6476\n",
            "Epoch 76/100\n",
            "30/30 [==============================] - 24s 800ms/step - loss: 1.1873 - accuracy: 0.7148 - val_loss: 1.1861 - val_accuracy: 0.7143\n",
            "Epoch 77/100\n",
            "30/30 [==============================] - 24s 802ms/step - loss: 1.1982 - accuracy: 0.7022 - val_loss: 1.2245 - val_accuracy: 0.6762\n",
            "Epoch 78/100\n",
            "30/30 [==============================] - 24s 800ms/step - loss: 1.2054 - accuracy: 0.6947 - val_loss: 1.1932 - val_accuracy: 0.7034\n",
            "Epoch 79/100\n",
            "30/30 [==============================] - 24s 797ms/step - loss: 1.1802 - accuracy: 0.7203 - val_loss: 1.1681 - val_accuracy: 0.7293\n",
            "Epoch 80/100\n",
            "30/30 [==============================] - 24s 800ms/step - loss: 1.1703 - accuracy: 0.7312 - val_loss: 1.1624 - val_accuracy: 0.7333\n",
            "Epoch 81/100\n",
            "30/30 [==============================] - 24s 802ms/step - loss: 1.1605 - accuracy: 0.7404 - val_loss: 1.1788 - val_accuracy: 0.7252\n",
            "Epoch 82/100\n",
            "30/30 [==============================] - 24s 802ms/step - loss: 1.1737 - accuracy: 0.7278 - val_loss: 1.2211 - val_accuracy: 0.6803\n",
            "Epoch 83/100\n",
            "30/30 [==============================] - 24s 803ms/step - loss: 1.1806 - accuracy: 0.7203 - val_loss: 1.1706 - val_accuracy: 0.7333\n",
            "Epoch 84/100\n",
            "30/30 [==============================] - 24s 807ms/step - loss: 1.1563 - accuracy: 0.7434 - val_loss: 1.1695 - val_accuracy: 0.7279\n",
            "Epoch 85/100\n",
            "30/30 [==============================] - 24s 802ms/step - loss: 1.1603 - accuracy: 0.7404 - val_loss: 1.1584 - val_accuracy: 0.7442\n",
            "Epoch 86/100\n",
            "30/30 [==============================] - 24s 804ms/step - loss: 1.1592 - accuracy: 0.7421 - val_loss: 1.1732 - val_accuracy: 0.7293\n",
            "Epoch 87/100\n",
            "30/30 [==============================] - 24s 804ms/step - loss: 1.1640 - accuracy: 0.7383 - val_loss: 1.1649 - val_accuracy: 0.7374\n",
            "Epoch 88/100\n",
            "30/30 [==============================] - 24s 802ms/step - loss: 1.1492 - accuracy: 0.7530 - val_loss: 1.1653 - val_accuracy: 0.7401\n",
            "Epoch 89/100\n",
            "30/30 [==============================] - 24s 794ms/step - loss: 1.1536 - accuracy: 0.7496 - val_loss: 1.1689 - val_accuracy: 0.7306\n",
            "Epoch 90/100\n",
            "30/30 [==============================] - 24s 795ms/step - loss: 1.1560 - accuracy: 0.7438 - val_loss: 1.1785 - val_accuracy: 0.7238\n",
            "Epoch 91/100\n",
            "30/30 [==============================] - 24s 795ms/step - loss: 1.1733 - accuracy: 0.7261 - val_loss: 1.1696 - val_accuracy: 0.7306\n",
            "Epoch 92/100\n",
            "30/30 [==============================] - 24s 792ms/step - loss: 1.1591 - accuracy: 0.7431 - val_loss: 1.1640 - val_accuracy: 0.7347\n",
            "Epoch 93/100\n",
            "30/30 [==============================] - 24s 792ms/step - loss: 1.1759 - accuracy: 0.7278 - val_loss: 1.1641 - val_accuracy: 0.7320\n",
            "Epoch 94/100\n",
            "30/30 [==============================] - 24s 794ms/step - loss: 1.1501 - accuracy: 0.7516 - val_loss: 1.1552 - val_accuracy: 0.7401\n",
            "Epoch 95/100\n",
            "30/30 [==============================] - 24s 793ms/step - loss: 1.1623 - accuracy: 0.7394 - val_loss: 1.1714 - val_accuracy: 0.7238\n",
            "Epoch 96/100\n",
            "30/30 [==============================] - 24s 796ms/step - loss: 1.1646 - accuracy: 0.7353 - val_loss: 1.1627 - val_accuracy: 0.7401\n",
            "Epoch 97/100\n",
            "30/30 [==============================] - 24s 809ms/step - loss: 1.1662 - accuracy: 0.7342 - val_loss: 1.2069 - val_accuracy: 0.6939\n",
            "Epoch 98/100\n",
            "30/30 [==============================] - 24s 795ms/step - loss: 1.1753 - accuracy: 0.7264 - val_loss: 1.1719 - val_accuracy: 0.7224\n",
            "Epoch 99/100\n",
            "30/30 [==============================] - 24s 799ms/step - loss: 1.1558 - accuracy: 0.7455 - val_loss: 1.1847 - val_accuracy: 0.7143\n",
            "Epoch 100/100\n",
            "30/30 [==============================] - 24s 806ms/step - loss: 1.1350 - accuracy: 0.7652 - val_loss: 1.1612 - val_accuracy: 0.7401\n"
          ],
          "name": "stdout"
        }
      ]
    },
    {
      "cell_type": "markdown",
      "metadata": {
        "id": "bwXrvp0HurHw"
      },
      "source": [
        "## Visualise results of training"
      ]
    },
    {
      "cell_type": "code",
      "metadata": {
        "id": "gnR5heR1tOjh"
      },
      "source": [
        "acc = history.history['accuracy']\n",
        "val_acc = history.history['val_accuracy']\n",
        "\n",
        "loss = history.history['loss']\n",
        "val_loss = history.history['val_loss']\n",
        "\n",
        "epochs_range = range(EPOCHS)"
      ],
      "execution_count": 22,
      "outputs": []
    },
    {
      "cell_type": "code",
      "metadata": {
        "id": "inHSSKM6uy9F",
        "outputId": "d39539ce-e6f4-4bd0-fa40-bbe4c7a377be",
        "colab": {
          "base_uri": "https://localhost:8080/",
          "height": 516
        }
      },
      "source": [
        "plt.figure(figsize=(8, 8))\n",
        "\n",
        "plt.subplot(1, 2, 1)\n",
        "plt.plot(epochs_range, acc, label='Training Accuracy')\n",
        "plt.plot(epochs_range, val_acc, label='Validation Accuracy')\n",
        "plt.legend()\n",
        "plt.title(\"Training and Validation Accuracy\")\n",
        "\n",
        "plt.subplot(1, 2, 2)\n",
        "plt.plot(epochs_range, loss, label='Training Loss')\n",
        "plt.plot(epochs_range, val_loss, label='Validation Loss')\n",
        "plt.legend()\n",
        "plt.title(\"Training and Validation Loss\")"
      ],
      "execution_count": 23,
      "outputs": [
        {
          "output_type": "execute_result",
          "data": {
            "text/plain": [
              "Text(0.5, 1.0, 'Training and Validation Loss')"
            ]
          },
          "metadata": {
            "tags": []
          },
          "execution_count": 23
        },
        {
          "output_type": "display_data",
          "data": {
            "image/png": "[encoded data removed]",
            "text/plain": [
              "<Figure size 576x576 with 2 Axes>"
            ]
          },
          "metadata": {
            "tags": [],
            "needs_background": "light"
          }
        }
      ]
    }
  ]
}