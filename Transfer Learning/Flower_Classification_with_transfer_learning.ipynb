{
  "nbformat": 4,
  "nbformat_minor": 0,
  "metadata": {
    "colab": {
      "name": "Flower Classification with transfer learning.ipynb",
      "provenance": []
    },
    "kernelspec": {
      "name": "python3",
      "display_name": "Python 3"
    },
    "accelerator": "GPU",
    "widgets": {
      "application/vnd.jupyter.widget-state+json": {
        "57275f16c877454da68d1e414d6f36c7": {
          "model_module": "@jupyter-widgets/controls",
          "model_name": "HBoxModel",
          "state": {
            "_view_name": "HBoxView",
            "_dom_classes": [],
            "_model_name": "HBoxModel",
            "_view_module": "@jupyter-widgets/controls",
            "_model_module_version": "1.5.0",
            "_view_count": null,
            "_view_module_version": "1.5.0",
            "box_style": "",
            "layout": "IPY_MODEL_a0be1beb7db34ba590b2327e0ae79a65",
            "_model_module": "@jupyter-widgets/controls",
            "children": [
              "IPY_MODEL_5851efda6d4740dba015249290887a66",
              "IPY_MODEL_50154364b01648a0a89e0ad12eb2747f"
            ]
          }
        },
        "a0be1beb7db34ba590b2327e0ae79a65": {
          "model_module": "@jupyter-widgets/base",
          "model_name": "LayoutModel",
          "state": {
            "_view_name": "LayoutView",
            "grid_template_rows": null,
            "right": null,
            "justify_content": null,
            "_view_module": "@jupyter-widgets/base",
            "overflow": null,
            "_model_module_version": "1.2.0",
            "_view_count": null,
            "flex_flow": null,
            "width": null,
            "min_width": null,
            "border": null,
            "align_items": null,
            "bottom": null,
            "_model_module": "@jupyter-widgets/base",
            "top": null,
            "grid_column": null,
            "overflow_y": null,
            "overflow_x": null,
            "grid_auto_flow": null,
            "grid_area": null,
            "grid_template_columns": null,
            "flex": null,
            "_model_name": "LayoutModel",
            "justify_items": null,
            "grid_row": null,
            "max_height": null,
            "align_content": null,
            "visibility": null,
            "align_self": null,
            "height": null,
            "min_height": null,
            "padding": null,
            "grid_auto_rows": null,
            "grid_gap": null,
            "max_width": null,
            "order": null,
            "_view_module_version": "1.2.0",
            "grid_template_areas": null,
            "object_position": null,
            "object_fit": null,
            "grid_auto_columns": null,
            "margin": null,
            "display": null,
            "left": null
          }
        },
        "5851efda6d4740dba015249290887a66": {
          "model_module": "@jupyter-widgets/controls",
          "model_name": "FloatProgressModel",
          "state": {
            "_view_name": "ProgressView",
            "style": "IPY_MODEL_68ed5ee49c5647b38556a660db59920b",
            "_dom_classes": [],
            "description": "Dl Completed...: 100%",
            "_model_name": "FloatProgressModel",
            "bar_style": "success",
            "max": 5,
            "_view_module": "@jupyter-widgets/controls",
            "_model_module_version": "1.5.0",
            "value": 5,
            "_view_count": null,
            "_view_module_version": "1.5.0",
            "orientation": "horizontal",
            "min": 0,
            "description_tooltip": null,
            "_model_module": "@jupyter-widgets/controls",
            "layout": "IPY_MODEL_5d3159a162a4457da7f5d5da97436b28"
          }
        },
        "50154364b01648a0a89e0ad12eb2747f": {
          "model_module": "@jupyter-widgets/controls",
          "model_name": "HTMLModel",
          "state": {
            "_view_name": "HTMLView",
            "style": "IPY_MODEL_257331c907314c7298600149938e9585",
            "_dom_classes": [],
            "description": "",
            "_model_name": "HTMLModel",
            "placeholder": "​",
            "_view_module": "@jupyter-widgets/controls",
            "_model_module_version": "1.5.0",
            "value": " 5/5 [00:09&lt;00:00,  1.90s/ file]",
            "_view_count": null,
            "_view_module_version": "1.5.0",
            "description_tooltip": null,
            "_model_module": "@jupyter-widgets/controls",
            "layout": "IPY_MODEL_87a0fd447c8449f8baea6e07bbbe4ef4"
          }
        },
        "68ed5ee49c5647b38556a660db59920b": {
          "model_module": "@jupyter-widgets/controls",
          "model_name": "ProgressStyleModel",
          "state": {
            "_view_name": "StyleView",
            "_model_name": "ProgressStyleModel",
            "description_width": "initial",
            "_view_module": "@jupyter-widgets/base",
            "_model_module_version": "1.5.0",
            "_view_count": null,
            "_view_module_version": "1.2.0",
            "bar_color": null,
            "_model_module": "@jupyter-widgets/controls"
          }
        },
        "5d3159a162a4457da7f5d5da97436b28": {
          "model_module": "@jupyter-widgets/base",
          "model_name": "LayoutModel",
          "state": {
            "_view_name": "LayoutView",
            "grid_template_rows": null,
            "right": null,
            "justify_content": null,
            "_view_module": "@jupyter-widgets/base",
            "overflow": null,
            "_model_module_version": "1.2.0",
            "_view_count": null,
            "flex_flow": null,
            "width": null,
            "min_width": null,
            "border": null,
            "align_items": null,
            "bottom": null,
            "_model_module": "@jupyter-widgets/base",
            "top": null,
            "grid_column": null,
            "overflow_y": null,
            "overflow_x": null,
            "grid_auto_flow": null,
            "grid_area": null,
            "grid_template_columns": null,
            "flex": null,
            "_model_name": "LayoutModel",
            "justify_items": null,
            "grid_row": null,
            "max_height": null,
            "align_content": null,
            "visibility": null,
            "align_self": null,
            "height": null,
            "min_height": null,
            "padding": null,
            "grid_auto_rows": null,
            "grid_gap": null,
            "max_width": null,
            "order": null,
            "_view_module_version": "1.2.0",
            "grid_template_areas": null,
            "object_position": null,
            "object_fit": null,
            "grid_auto_columns": null,
            "margin": null,
            "display": null,
            "left": null
          }
        },
        "257331c907314c7298600149938e9585": {
          "model_module": "@jupyter-widgets/controls",
          "model_name": "DescriptionStyleModel",
          "state": {
            "_view_name": "StyleView",
            "_model_name": "DescriptionStyleModel",
            "description_width": "",
            "_view_module": "@jupyter-widgets/base",
            "_model_module_version": "1.5.0",
            "_view_count": null,
            "_view_module_version": "1.2.0",
            "_model_module": "@jupyter-widgets/controls"
          }
        },
        "87a0fd447c8449f8baea6e07bbbe4ef4": {
          "model_module": "@jupyter-widgets/base",
          "model_name": "LayoutModel",
          "state": {
            "_view_name": "LayoutView",
            "grid_template_rows": null,
            "right": null,
            "justify_content": null,
            "_view_module": "@jupyter-widgets/base",
            "overflow": null,
            "_model_module_version": "1.2.0",
            "_view_count": null,
            "flex_flow": null,
            "width": null,
            "min_width": null,
            "border": null,
            "align_items": null,
            "bottom": null,
            "_model_module": "@jupyter-widgets/base",
            "top": null,
            "grid_column": null,
            "overflow_y": null,
            "overflow_x": null,
            "grid_auto_flow": null,
            "grid_area": null,
            "grid_template_columns": null,
            "flex": null,
            "_model_name": "LayoutModel",
            "justify_items": null,
            "grid_row": null,
            "max_height": null,
            "align_content": null,
            "visibility": null,
            "align_self": null,
            "height": null,
            "min_height": null,
            "padding": null,
            "grid_auto_rows": null,
            "grid_gap": null,
            "max_width": null,
            "order": null,
            "_view_module_version": "1.2.0",
            "grid_template_areas": null,
            "object_position": null,
            "object_fit": null,
            "grid_auto_columns": null,
            "margin": null,
            "display": null,
            "left": null
          }
        }
      }
    }
  },
  "cells": [
    {
      "cell_type": "markdown",
      "metadata": {
        "id": "3gHihiH6mFAD"
      },
      "source": [
        "## Imports"
      ]
    },
    {
      "cell_type": "code",
      "metadata": {
        "id": "r49bX3m4mHKo"
      },
      "source": [
        "import tensorflow as tf\n",
        "import tensorflow_datasets as tfds\n",
        "import tensorflow_hub as hub\n",
        "\n",
        "import math\n",
        "import numpy as np\n",
        "import matplotlib.pyplot as plt"
      ],
      "execution_count": 1,
      "outputs": []
    },
    {
      "cell_type": "markdown",
      "metadata": {
        "id": "IKQc2FNOmvJf"
      },
      "source": [
        "## Download dataset with tfds"
      ]
    },
    {
      "cell_type": "code",
      "metadata": {
        "id": "6Oy0kZKfmTNN",
        "outputId": "012900bf-ce7c-4c88-e9a6-231b6f8e80cc",
        "colab": {
          "base_uri": "https://localhost:8080/",
          "height": 222,
          "referenced_widgets": [
            "57275f16c877454da68d1e414d6f36c7",
            "a0be1beb7db34ba590b2327e0ae79a65",
            "5851efda6d4740dba015249290887a66",
            "50154364b01648a0a89e0ad12eb2747f",
            "68ed5ee49c5647b38556a660db59920b",
            "5d3159a162a4457da7f5d5da97436b28",
            "257331c907314c7298600149938e9585",
            "87a0fd447c8449f8baea6e07bbbe4ef4"
          ]
        }
      },
      "source": [
        "(training_set, validation_set), dataset_info = tfds.load('tf_flowers',\n",
        "                                                          download=True,\n",
        "                                                          as_supervised=True,\n",
        "                                                          with_info=True,\n",
        "                                                          split=['train[:80%]', 'train[80%:]'])"
      ],
      "execution_count": 2,
      "outputs": [
        {
          "output_type": "stream",
          "text": [
            "WARNING:absl:Dataset tf_flowers is hosted on GCS. It will automatically be downloaded to your\n",
            "local data directory. If you'd instead prefer to read directly from our public\n",
            "GCS bucket (recommended if you're running on GCP), you can instead set\n",
            "data_dir=gs://tfds-data/datasets.\n",
            "\n"
          ],
          "name": "stderr"
        },
        {
          "output_type": "stream",
          "text": [
            "\u001b[1mDownloading and preparing dataset tf_flowers/3.0.0 (download: 218.21 MiB, generated: Unknown size, total: 218.21 MiB) to /root/tensorflow_datasets/tf_flowers/3.0.0...\u001b[0m\n"
          ],
          "name": "stdout"
        },
        {
          "output_type": "display_data",
          "data": {
            "application/vnd.jupyter.widget-view+json": {
              "model_id": "57275f16c877454da68d1e414d6f36c7",
              "version_minor": 0,
              "version_major": 2
            },
            "text/plain": [
              "HBox(children=(FloatProgress(value=0.0, description='Dl Completed...', max=5.0, style=ProgressStyle(descriptio…"
            ]
          },
          "metadata": {
            "tags": []
          }
        },
        {
          "output_type": "stream",
          "text": [
            "\n",
            "\n",
            "\u001b[1mDataset tf_flowers downloaded and prepared to /root/tensorflow_datasets/tf_flowers/3.0.0. Subsequent calls will reuse this data.\u001b[0m\n"
          ],
          "name": "stdout"
        }
      ]
    },
    {
      "cell_type": "code",
      "metadata": {
        "id": "FVNyseyn2eWv",
        "outputId": "8b3a324c-71b3-4ffb-e472-cc1e2526c2b7",
        "colab": {
          "base_uri": "https://localhost:8080/",
          "height": 51
        }
      },
      "source": [
        "print(f\"Number of training examples : {dataset_info.splits['train'].num_examples}\")\n",
        "print(f\"Number of classes : {dataset_info.features['label'].num_classes}\")"
      ],
      "execution_count": 3,
      "outputs": [
        {
          "output_type": "stream",
          "text": [
            "Number of training examples : 3670\n",
            "Number of classes : 5\n"
          ],
          "name": "stdout"
        }
      ]
    },
    {
      "cell_type": "code",
      "metadata": {
        "id": "mHfHCLJHpfRK"
      },
      "source": [
        "num_examples = dataset_info.splits['train'].num_examples\n",
        "num_classes = dataset_info.features['label'].num_classes"
      ],
      "execution_count": 4,
      "outputs": []
    },
    {
      "cell_type": "markdown",
      "metadata": {
        "id": "eH-C1Bn-kzpf"
      },
      "source": [
        "## Reformat Images and create batches"
      ]
    },
    {
      "cell_type": "code",
      "metadata": {
        "id": "n-8YkYQulhkh"
      },
      "source": [
        "IMG_SIZE = 224\n",
        "BATCH_SIZE = 32"
      ],
      "execution_count": 5,
      "outputs": []
    },
    {
      "cell_type": "code",
      "metadata": {
        "id": "MHQpI21ukeBF"
      },
      "source": [
        "def format_images(image, label):\n",
        "  image = tf.image.resize(image, (IMG_SIZE, IMG_SIZE)) / 255.0\n",
        "  return image, label"
      ],
      "execution_count": 6,
      "outputs": []
    },
    {
      "cell_type": "code",
      "metadata": {
        "id": "06rPmNRrpuGK"
      },
      "source": [
        "train_batch = training_set.cache().map(format_images).shuffle(num_examples//4).batch(BATCH_SIZE).prefetch(1)"
      ],
      "execution_count": 7,
      "outputs": []
    },
    {
      "cell_type": "code",
      "metadata": {
        "id": "KgBsJw5EpxDQ"
      },
      "source": [
        "validation_batch = validation_set.cache().map(format_images).batch(BATCH_SIZE).prefetch(1)"
      ],
      "execution_count": 8,
      "outputs": []
    },
    {
      "cell_type": "markdown",
      "metadata": {
        "id": "6iSuwVAVqQQB"
      },
      "source": [
        "## Download classifier from tensorflow hub"
      ]
    },
    {
      "cell_type": "code",
      "metadata": {
        "id": "MxrNoQUQqBLX"
      },
      "source": [
        "URL = 'https://tfhub.dev/google/imagenet/mobilenet_v2_100_224/feature_vector/4'\n",
        "\n",
        "classifier = hub.KerasLayer(URL, input_shape=(IMG_SIZE, IMG_SIZE, 3))\n",
        "classifier.trainable = False"
      ],
      "execution_count": 11,
      "outputs": []
    },
    {
      "cell_type": "markdown",
      "metadata": {
        "id": "zTgr7dde2KGK"
      },
      "source": [
        "## Define a model"
      ]
    },
    {
      "cell_type": "code",
      "metadata": {
        "id": "7HYDY1u12JfW"
      },
      "source": [
        "model = tf.keras.Sequential([\n",
        "                             classifier,\n",
        "                             tf.keras.layers.Dense(num_classes)\n",
        "])"
      ],
      "execution_count": 13,
      "outputs": []
    },
    {
      "cell_type": "code",
      "metadata": {
        "id": "5DBSwK-d2lz9"
      },
      "source": [
        "model.compile(optimizer='adam',\n",
        "              loss=tf.keras.losses.SparseCategoricalCrossentropy(from_logits=True),\n",
        "              metrics=['accuracy'])"
      ],
      "execution_count": 14,
      "outputs": []
    },
    {
      "cell_type": "code",
      "metadata": {
        "id": "YwoBQQLg2-ek"
      },
      "source": [
        "EPOCHS = 10"
      ],
      "execution_count": 15,
      "outputs": []
    },
    {
      "cell_type": "code",
      "metadata": {
        "id": "dVlyeFAn2y_X",
        "outputId": "d17f595f-77f2-4071-a854-b4da22b7a107",
        "colab": {
          "base_uri": "https://localhost:8080/",
          "height": 357
        }
      },
      "source": [
        "history = model.fit(\n",
        "    train_batch,\n",
        "    validation_data=validation_batch,\n",
        "    epochs=EPOCHS\n",
        ")"
      ],
      "execution_count": 16,
      "outputs": [
        {
          "output_type": "stream",
          "text": [
            "Epoch 1/10\n",
            "92/92 [==============================] - 8s 85ms/step - loss: 0.7101 - accuracy: 0.7452 - val_loss: 0.4075 - val_accuracy: 0.8678\n",
            "Epoch 2/10\n",
            "92/92 [==============================] - 4s 48ms/step - loss: 0.3617 - accuracy: 0.8804 - val_loss: 0.3555 - val_accuracy: 0.8760\n",
            "Epoch 3/10\n",
            "92/92 [==============================] - 4s 48ms/step - loss: 0.2875 - accuracy: 0.9026 - val_loss: 0.2994 - val_accuracy: 0.8992\n",
            "Epoch 4/10\n",
            "92/92 [==============================] - 4s 48ms/step - loss: 0.2403 - accuracy: 0.9281 - val_loss: 0.2847 - val_accuracy: 0.9046\n",
            "Epoch 5/10\n",
            "92/92 [==============================] - 4s 47ms/step - loss: 0.2062 - accuracy: 0.9404 - val_loss: 0.2729 - val_accuracy: 0.9087\n",
            "Epoch 6/10\n",
            "92/92 [==============================] - 4s 48ms/step - loss: 0.1840 - accuracy: 0.9489 - val_loss: 0.2665 - val_accuracy: 0.9142\n",
            "Epoch 7/10\n",
            "92/92 [==============================] - 4s 48ms/step - loss: 0.1595 - accuracy: 0.9605 - val_loss: 0.2612 - val_accuracy: 0.9128\n",
            "Epoch 8/10\n",
            "92/92 [==============================] - 4s 48ms/step - loss: 0.1433 - accuracy: 0.9642 - val_loss: 0.2580 - val_accuracy: 0.9155\n",
            "Epoch 9/10\n",
            "92/92 [==============================] - 4s 49ms/step - loss: 0.1300 - accuracy: 0.9683 - val_loss: 0.2530 - val_accuracy: 0.9183\n",
            "Epoch 10/10\n",
            "92/92 [==============================] - 4s 48ms/step - loss: 0.1174 - accuracy: 0.9738 - val_loss: 0.2522 - val_accuracy: 0.9114\n"
          ],
          "name": "stdout"
        }
      ]
    }
  ]
}